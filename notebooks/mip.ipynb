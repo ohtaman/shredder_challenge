{
 "metadata": {
  "language_info": {
   "codemirror_mode": {
    "name": "ipython",
    "version": 3
   },
   "file_extension": ".py",
   "mimetype": "text/x-python",
   "name": "python",
   "nbconvert_exporter": "python",
   "pygments_lexer": "ipython3",
   "version": "3.9.0-final"
  },
  "orig_nbformat": 2,
  "kernelspec": {
   "name": "python3",
   "display_name": "Python 3"
  }
 },
 "nbformat": 4,
 "nbformat_minor": 2,
 "cells": [
  {
   "source": [
    "# シュレッダー復元問題の定式化\n",
    "\n",
    "## 二次割当て問題としての定式化\n",
    "\n",
    "### 定数とインデックス\n",
    "\n",
    "- $N$: 紙片の総数\n",
    "- $i,j \\in [1,\\dots,N]$: 位置を表すインデックス\n",
    "- $a,b \\in [1,\\dots,N]$: 紙片を表すインデックス\n",
    "- $d \\in \\{r, c\\}$: 連結の方向\n",
    "- $S_{abd}$: 紙片 $a$ と $b$ が方向 $d$ で連結した場合の類似度\n",
    "- $D_{ijd}$: 位置 $i$ と $j$ が方向 $d$ でつながっているか否かのフラグ\n",
    "\n",
    "### 変数\n",
    "\n",
    "- $x_{ia}$: 位置 $i$ に紙片 $a$ が置かれている場合は $1$ となるフラグ\n",
    "\n",
    "### 目的関数\n",
    "\n",
    "$$\n",
    "\\max \\sum_{abijd}S_{abd}D_{ijd}x_{ia}x_{jb}\n",
    "$$\n",
    "\n",
    "### 制約条件\n",
    "\n",
    "- $\\sum_{i}x_{ia} = 1$: 紙片 $a$ は、どこか一箇所にしか置かれない\n",
    "- $\\sum_{a}x_{ia} = 1$: 位置 $i$ における紙片は、1つである\n",
    "\n",
    "\n",
    "## MIP への変形\n",
    "\n",
    "$x_{ia}x_{jb}$を表す補助変数 $y_{ijab}$ を導入する\n",
    "\n",
    "|$x_{ai}$|$x_{jb}$|$y_{ijab}$|\n",
    "|:--:|:--:|:--:|\n",
    "|0|0|0|\n",
    "|0|1|0|\n",
    "|1|0|0|\n",
    "|1|1|1|\n",
    "\n",
    "これは以下の制約で実現できる\n",
    "\n",
    "- $x_{ia} + x_{jb} \\leq y_{ijab} + 1$\n",
    "- $x_{ia} \\geq y_{ijab}$\n",
    "- $x_{jb} \\geq y_{ijab}$\n"
   ],
   "cell_type": "markdown",
   "metadata": {}
  },
  {
   "cell_type": "code",
   "execution_count": 143,
   "metadata": {},
   "outputs": [],
   "source": [
    "import numpy as np\n",
    "from functools import lru_cache\n",
    "from collections import defaultdict\n",
    "import pathlib\n",
    "import pickle\n",
    "\n",
    "\n",
    "def get_sim_func(imgs):\n",
    "    @lru_cache(maxsize=None)\n",
    "    def sim(a, b, d):\n",
    "        height = min(imgs[a].shape[0], imgs[b].shape[0])\n",
    "        width = min(imgs[a].shape[1], imgs[b].shape[1])\n",
    "        if d == 'r':\n",
    "            return imgs[a][-1, :, :][:height]\n",
    "            rhs = imgs[b][0, :, :][:height]\n",
    "        elif d == 'c':\n",
    "            lhs = imgs[a][:, -1, :][:, :width]\n",
    "            rhs = imgs[b][:, 0, :][:, :width]\n",
    "        else:\n",
    "            raise\n",
    "        return (lhs == rhs).sum()\n",
    "    return sim\n",
    "        \n",
    "\n",
    "def sim(a, b, d):\n",
    "    if d == 'r':\n",
    "        lhs = a[-1, :, :][:b.shape[0]]\n",
    "        rhs = b[0, :, :][:a.shape[0]]\n",
    "    elif d == 'c':\n",
    "        lhs = a[:, -1, :][:, :b.shape[1]]\n",
    "        rhs = b[:, 0, :][:, :a.shape[1]]\n",
    "    else:\n",
    "        raise\n",
    "    return (lhs == rhs).sum()\n",
    "\n",
    "\n",
    "def total_cost(imgs, rows, cols):\n",
    "    cost = 0\n",
    "    n = rows*cols\n",
    "    for i in range(len(imgs)):\n",
    "        if (1 + 1)%cols > 0:\n",
    "            cost += sim(imgs[i], imgs[i + 1], 'r')\n",
    "        if i + cols < n:\n",
    "            cost += sim(imgs[i], imgs[i + cols], 'c')\n",
    "    return cost\n",
    "\n",
    "\n",
    "def get_coeff(imgs, rows, cols):\n",
    "    \"\"\"\n",
    "    \\sum_{d}S_{abd}D_{ijd} を返す\n",
    "    \"\"\"\n",
    "    n = rows*cols\n",
    "    coeff = defaultdict(float)\n",
    "    for a in range(len(imgs)):\n",
    "        for b in range(len(imgs)):\n",
    "            for i in range(rows*cols):\n",
    "                if (i + 1)%cols > 0:\n",
    "                    coeff[a, b, i, i + 1] = sim(imgs[a], imgs[b], 'r')\n",
    "                if i + cols < n:\n",
    "                    coeff[a, b, i, i + cols] = sim(imgs[a], imgs[b], 'c')\n",
    "    return coeff"
   ]
  },
  {
   "cell_type": "code",
   "execution_count": 144,
   "metadata": {},
   "outputs": [],
   "source": [
    "IMG_DIR = '../data/shred'\n",
    "\n",
    "imgs = sorted(pathlib.Path(IMG_DIR).glob('*.pkl'))"
   ]
  },
  {
   "cell_type": "code",
   "execution_count": 145,
   "metadata": {},
   "outputs": [],
   "source": [
    "with open(imgs[12], 'rb') as i_:\n",
    "    i = pickle.load(i_)"
   ]
  },
  {
   "cell_type": "code",
   "execution_count": 146,
   "metadata": {},
   "outputs": [],
   "source": [
    "rows = max(list(zip(*i[1]))[0]) + 1\n",
    "cols = max(list(zip(*i[1]))[1]) + 1\n",
    "n = rows*cols"
   ]
  },
  {
   "cell_type": "code",
   "execution_count": 147,
   "metadata": {},
   "outputs": [],
   "source": [
    "coeff = get_coeff(i[0], rows, cols)"
   ]
  },
  {
   "cell_type": "code",
   "execution_count": 126,
   "metadata": {},
   "outputs": [],
   "source": [
    "import pulp\n",
    "\n",
    "\n",
    "problem = pulp.LpProblem(sense=pulp.LpMaximize)\n",
    "\n",
    "x = np.array(pulp.LpVariable.matrix('x', (range(n), range(n)), cat=pulp.LpBinary))\n",
    "y = np.array(pulp.LpVariable.matrix('y', (range(n), range(n), range(n), range(n)), cat=pulp.LpBinary))\n",
    "\n",
    "problem.setObjective(pulp.lpSum(\n",
    "    coeff[a, b, i, j]*y[a, b, i, j] if coeff[a, b, i, j] != 0 else 0\n",
    "    for a in range(n)\n",
    "    for b in range(n)\n",
    "    for i in range(n)\n",
    "    for j in range(n)\n",
    "    if i != j\n",
    "))\n",
    "\n",
    "for i in range(n):\n",
    "    problem.addConstraint(pulp.lpSum(x[:, i]) == 1)\n",
    "\n",
    "for a in range(n):\n",
    "    problem.addConstraint(pulp.lpSum(x[a, :]) == 1)\n",
    "\n",
    "for a, b, i, j in coeff.keys():\n",
    "    if coeff[a, b, i, j] != 0:\n",
    "        problem.addConstraint(x[a, i] + x[b, j] <= y[a, b, i, j] + 1)\n",
    "        problem.addConstraint(x[a, i] >= y[a, b, i, j])\n",
    "        problem.addConstraint(x[b, j] >= y[a, b, i, j])"
   ]
  },
  {
   "cell_type": "code",
   "execution_count": 127,
   "metadata": {},
   "outputs": [
    {
     "output_type": "execute_result",
     "data": {
      "text/plain": [
       "1"
      ]
     },
     "metadata": {},
     "execution_count": 127
    }
   ],
   "source": [
    "problem.solve()"
   ]
  },
  {
   "cell_type": "code",
   "execution_count": 119,
   "metadata": {
    "tags": [
     "outputPrepend"
    ]
   },
   "outputs": [
    {
     "output_type": "stream",
     "name": "stdout",
     "text": [
      "pkl'), PosixPath('../data/shred/chabudai_kaeshi_50_2.pkl'), PosixPath('../data/shred/chabudai_kaeshi_50_4.pkl'), PosixPath('../data/shred/chabudai_kaeshi_5_1.pkl'), PosixPath('../data/shred/chabudai_kaeshi_5_2.pkl'), PosixPath('../data/shred/chabudai_kaeshi_5_4.pkl'), PosixPath('../data/shred/depositphotos_11056146-stock-photo-two-peeking-from-hole-in_100_1.pkl'), PosixPath('../data/shred/depositphotos_11056146-stock-photo-two-peeking-from-hole-in_100_2.pkl'), PosixPath('../data/shred/depositphotos_11056146-stock-photo-two-peeking-from-hole-in_100_4.pkl'), PosixPath('../data/shred/depositphotos_11056146-stock-photo-two-peeking-from-hole-in_10_1.pkl'), PosixPath('../data/shred/depositphotos_11056146-stock-photo-two-peeking-from-hole-in_10_2.pkl'), PosixPath('../data/shred/depositphotos_11056146-stock-photo-two-peeking-from-hole-in_10_4.pkl'), PosixPath('../data/shred/depositphotos_11056146-stock-photo-two-peeking-from-hole-in_30_1.pkl'), PosixPath('../data/shred/depositphotos_11056146-stock-photo-two-peeking-from-hole-in_50_4.pkl'), PosixPath('../data/shred/depositphotos_11056146-stock-photo-two-peeking-from-hole-in_30_2.pkl'), PosixPath('../data/shred/depositphotos_11056146-stock-photo-two-peeking-from-hole-in_5_1.pkl'), PosixPath('../data/shred/depositphotos_11056146-stock-photo-two-peeking-from-hole-in_50_2.pkl'), PosixPath('../data/shred/depositphotos_11056146-stock-photo-two-peeking-from-hole-in_5_2.pkl'), PosixPath('../data/shred/depositphotos_11056146-stock-photo-two-peeking-from-hole-in_50_1.pkl'), PosixPath('../data/shred/depositphotos_11056146-stock-photo-two-peeking-from-hole-in_5_4.pkl'), PosixPath('../data/shred/depositphotos_11056146-stock-photo-two-peeking-from-hole-in_30_4.pkl'))\n",
      "(PosixPath('../data/shred/EJ3TVioU8AAqEvN_100_1.pkl'), PosixPath('../data/shred/EJ3TVioU8AAqEvN_100_2.pkl'), PosixPath('../data/shred/EJ3TVioU8AAqEvN_100_4.pkl'), PosixPath('../data/shred/EJ3TVioU8AAqEvN_10_1.pkl'), PosixPath('../data/shred/EJ3TVioU8AAqEvN_10_2.pkl'), PosixPath('../data/shred/EJ3TVioU8AAqEvN_10_4.pkl'), PosixPath('../data/shred/EJ3TVioU8AAqEvN_30_1.pkl'), PosixPath('../data/shred/EJ3TVioU8AAqEvN_30_2.pkl'), PosixPath('../data/shred/EJ3TVioU8AAqEvN_30_4.pkl'), PosixPath('../data/shred/EJ3TVioU8AAqEvN_50_1.pkl'), PosixPath('../data/shred/EJ3TVioU8AAqEvN_50_2.pkl'), PosixPath('../data/shred/EJ3TVioU8AAqEvN_50_4.pkl'), PosixPath('../data/shred/EJ3TVioU8AAqEvN_5_1.pkl'), PosixPath('../data/shred/EJ3TVioU8AAqEvN_5_2.pkl'), PosixPath('../data/shred/EJ3TVioU8AAqEvN_5_4.pkl'), PosixPath('../data/shred/chabudai_kaeshi_100_1.pkl'), PosixPath('../data/shred/chabudai_kaeshi_100_2.pkl'), PosixPath('../data/shred/chabudai_kaeshi_100_4.pkl'), PosixPath('../data/shred/chabudai_kaeshi_10_1.pkl'), PosixPath('../data/shred/chabudai_kaeshi_10_2.pkl'), PosixPath('../data/shred/chabudai_kaeshi_10_4.pkl'), PosixPath('../data/shred/chabudai_kaeshi_30_1.pkl'), PosixPath('../data/shred/chabudai_kaeshi_30_2.pkl'), PosixPath('../data/shred/chabudai_kaeshi_30_4.pkl'), PosixPath('../data/shred/chabudai_kaeshi_50_1.pkl'), PosixPath('../data/shred/chabudai_kaeshi_50_2.pkl'), PosixPath('../data/shred/chabudai_kaeshi_50_4.pkl'), PosixPath('../data/shred/chabudai_kaeshi_5_1.pkl'), PosixPath('../data/shred/chabudai_kaeshi_5_2.pkl'), PosixPath('../data/shred/chabudai_kaeshi_5_4.pkl'), PosixPath('../data/shred/depositphotos_11056146-stock-photo-two-peeking-from-hole-in_100_1.pkl'), PosixPath('../data/shred/depositphotos_11056146-stock-photo-two-peeking-from-hole-in_100_2.pkl'), PosixPath('../data/shred/depositphotos_11056146-stock-photo-two-peeking-from-hole-in_100_4.pkl'), PosixPath('../data/shred/depositphotos_11056146-stock-photo-two-peeking-from-hole-in_10_1.pkl'), PosixPath('../data/shred/depositphotos_11056146-stock-photo-two-peeking-from-hole-in_10_2.pkl'), PosixPath('../data/shred/depositphotos_11056146-stock-photo-two-peeking-from-hole-in_10_4.pkl'), PosixPath('../data/shred/depositphotos_11056146-stock-photo-two-peeking-from-hole-in_30_1.pkl'), PosixPath('../data/shred/depositphotos_11056146-stock-photo-two-peeking-from-hole-in_50_4.pkl'), PosixPath('../data/shred/depositphotos_11056146-stock-photo-two-peeking-from-hole-in_30_2.pkl'), PosixPath('../data/shred/depositphotos_11056146-stock-photo-two-peeking-from-hole-in_5_1.pkl'), PosixPath('../data/shred/depositphotos_11056146-stock-photo-two-peeking-from-hole-in_50_2.pkl'), PosixPath('../data/shred/depositphotos_11056146-stock-photo-two-peeking-from-hole-in_5_2.pkl'), PosixPath('../data/shred/depositphotos_11056146-stock-photo-two-peeking-from-hole-in_5_4.pkl'), PosixPath('../data/shred/depositphotos_11056146-stock-photo-two-peeking-from-hole-in_30_4.pkl'), PosixPath('../data/shred/depositphotos_11056146-stock-photo-two-peeking-from-hole-in_50_1.pkl'))\n",
      "(PosixPath('../data/shred/EJ3TVioU8AAqEvN_100_1.pkl'), PosixPath('../data/shred/EJ3TVioU8AAqEvN_100_2.pkl'), PosixPath('../data/shred/EJ3TVioU8AAqEvN_100_4.pkl'), PosixPath('../data/shred/EJ3TVioU8AAqEvN_10_1.pkl'), PosixPath('../data/shred/EJ3TVioU8AAqEvN_10_2.pkl'), PosixPath('../data/shred/EJ3TVioU8AAqEvN_10_4.pkl'), PosixPath('../data/shred/EJ3TVioU8AAqEvN_30_1.pkl'), PosixPath('../data/shred/EJ3TVioU8AAqEvN_30_2.pkl'), PosixPath('../data/shred/EJ3TVioU8AAqEvN_30_4.pkl'), PosixPath('../data/shred/EJ3TVioU8AAqEvN_50_1.pkl'), PosixPath('../data/shred/EJ3TVioU8AAqEvN_50_2.pkl'), PosixPath('../data/shred/EJ3TVioU8AAqEvN_50_4.pkl'), PosixPath('../data/shred/EJ3TVioU8AAqEvN_5_1.pkl'), PosixPath('../data/shred/EJ3TVioU8AAqEvN_5_2.pkl'), PosixPath('../data/shred/EJ3TVioU8AAqEvN_5_4.pkl'), PosixPath('../data/shred/chabudai_kaeshi_100_1.pkl'), PosixPath('../data/shred/chabudai_kaeshi_100_2.pkl'), PosixPath('../data/shred/chabudai_kaeshi_100_4.pkl'), PosixPath('../data/shred/chabudai_kaeshi_10_1.pkl'), PosixPath('../data/shred/chabudai_kaeshi_10_2.pkl'), PosixPath('../data/shred/chabudai_kaeshi_10_4.pkl'), PosixPath('../data/shred/chabudai_kaeshi_30_1.pkl'), PosixPath('../data/shred/chabudai_kaeshi_30_2.pkl'), PosixPath('../data/shred/chabudai_kaeshi_30_4.pkl'), PosixPath('../data/shred/chabudai_kaeshi_50_1.pkl'), PosixPath('../data/shred/chabudai_kaeshi_50_2.pkl'), PosixPath('../data/shred/chabudai_kaeshi_50_4.pkl'), PosixPath('../data/shred/chabudai_kaeshi_5_1.pkl'), PosixPath('../data/shred/chabudai_kaeshi_5_2.pkl'), PosixPath('../data/shred/chabudai_kaeshi_5_4.pkl'), PosixPath('../data/shred/depositphotos_11056146-stock-photo-two-peeking-from-hole-in_100_1.pkl'), PosixPath('../data/shred/depositphotos_11056146-stock-photo-two-peeking-from-hole-in_100_2.pkl'), PosixPath('../data/shred/depositphotos_11056146-stock-photo-two-peeking-from-hole-in_100_4.pkl'), PosixPath('../data/shred/depositphotos_11056146-stock-photo-two-peeking-from-hole-in_10_1.pkl'), PosixPath('../data/shred/depositphotos_11056146-stock-photo-two-peeking-from-hole-in_10_2.pkl'), PosixPath('../data/shred/depositphotos_11056146-stock-photo-two-peeking-from-hole-in_10_4.pkl'), PosixPath('../data/shred/depositphotos_11056146-stock-photo-two-peeking-from-hole-in_30_1.pkl'), PosixPath('../data/shred/depositphotos_11056146-stock-photo-two-peeking-from-hole-in_50_4.pkl'), PosixPath('../data/shred/depositphotos_11056146-stock-photo-two-peeking-from-hole-in_30_2.pkl'), PosixPath('../data/shred/depositphotos_11056146-stock-photo-two-peeking-from-hole-in_5_1.pkl'), PosixPath('../data/shred/depositphotos_11056146-stock-photo-two-peeking-from-hole-in_50_2.pkl'), PosixPath('../data/shred/depositphotos_11056146-stock-photo-two-peeking-from-hole-in_5_2.pkl'), PosixPath('../data/shred/depositphotos_11056146-stock-photo-two-peeking-from-hole-in_5_4.pkl'), PosixPath('../data/shred/depositphotos_11056146-stock-photo-two-peeking-from-hole-in_50_1.pkl'), PosixPath('../data/shred/depositphotos_11056146-stock-photo-two-peeking-from-hole-in_30_4.pkl'))\n",
      "(PosixPath('../data/shred/EJ3TVioU8AAqEvN_100_1.pkl'), PosixPath('../data/shred/EJ3TVioU8AAqEvN_100_2.pkl'), PosixPath('../data/shred/EJ3TVioU8AAqEvN_100_4.pkl'), PosixPath('../data/shred/EJ3TVioU8AAqEvN_10_1.pkl'), PosixPath('../data/shred/EJ3TVioU8AAqEvN_10_2.pkl'), PosixPath('../data/shred/EJ3TVioU8AAqEvN_10_4.pkl'), PosixPath('../data/shred/EJ3TVioU8AAqEvN_30_1.pkl'), PosixPath('../data/shred/EJ3TVioU8AAqEvN_30_2.pkl'), PosixPath('../data/shred/EJ3TVioU8AAqEvN_30_4.pkl'), PosixPath('../data/shred/EJ3TVioU8AAqEvN_50_1.pkl'), PosixPath('../data/shred/EJ3TVioU8AAqEvN_50_2.pkl'), PosixPath('../data/shred/EJ3TVioU8AAqEvN_50_4.pkl'), PosixPath('../data/shred/EJ3TVioU8AAqEvN_5_1.pkl'), PosixPath('../data/shred/EJ3TVioU8AAqEvN_5_2.pkl'), PosixPath('../data/shred/EJ3TVioU8AAqEvN_5_4.pkl'), PosixPath('../data/shred/chabudai_kaeshi_100_1.pkl'), PosixPath('../data/shred/chabudai_kaeshi_100_2.pkl'), PosixPath('../data/shred/chabudai_kaeshi_100_4.pkl'), PosixPath('../data/shred/chabudai_kaeshi_10_1.pkl'), PosixPath('../data/shred/chabudai_kaeshi_10_2.pkl'), PosixPath('../data/shred/chabudai_kaeshi_10_4.pkl'), PosixPath('../data/shred/chabudai_kaeshi_30_1.pkl'), PosixPath('../data/shred/chabudai_kaeshi_30_2.pkl'), PosixPath('../data/shred/chabudai_kaeshi_30_4.pkl'), PosixPath('../data/shred/chabudai_kaeshi_50_1.pkl'), PosixPath('../data/shred/chabudai_kaeshi_50_2.pkl'), PosixPath('../data/shred/chabudai_kaeshi_50_4.pkl'), PosixPath('../data/shred/chabudai_kaeshi_5_1.pkl'), PosixPath('../data/shred/chabudai_kaeshi_5_2.pkl'), PosixPath('../data/shred/chabudai_kaeshi_5_4.pkl'), PosixPath('../data/shred/depositphotos_11056146-stock-photo-two-peeking-from-hole-in_100_1.pkl'), PosixPath('../data/shred/depositphotos_11056146-stock-photo-two-peeking-from-hole-in_100_2.pkl'), PosixPath('../data/shred/depositphotos_11056146-stock-photo-two-peeking-from-hole-in_100_4.pkl'), PosixPath('../data/shred/depositphotos_11056146-stock-photo-two-peeking-from-hole-in_10_1.pkl'), PosixPath('../data/shred/depositphotos_11056146-stock-photo-two-peeking-from-hole-in_10_2.pkl'), PosixPath('../data/shred/depositphotos_11056146-stock-photo-two-peeking-from-hole-in_10_4.pkl'), PosixPath('../data/shred/depositphotos_11056146-stock-photo-two-peeking-from-hole-in_30_1.pkl'), PosixPath('../data/shred/depositphotos_11056146-stock-photo-two-peeking-from-hole-in_50_4.pkl'), PosixPath('../data/shred/depositphotos_11056146-stock-photo-two-peeking-from-hole-in_30_2.pkl'), PosixPath('../data/shred/depositphotos_11056146-stock-photo-two-peeking-from-hole-in_5_1.pkl'), PosixPath('../data/shred/depositphotos_11056146-stock-photo-two-peeking-from-hole-in_50_2.pkl'), PosixPath('../data/shred/depositphotos_11056146-stock-photo-two-peeking-from-hole-in_5_4.pkl'), PosixPath('../data/shred/depositphotos_11056146-stock-photo-two-peeking-from-hole-in_30_4.pkl'), PosixPath('../data/shred/depositphotos_11056146-stock-photo-two-peeking-from-hole-in_50_1.pkl'), PosixPath('../data/shred/depositphotos_11056146-stock-photo-two-peeking-from-hole-in_5_2.pkl'))\n",
      "(PosixPath('../data/shred/EJ3TVioU8AAqEvN_100_1.pkl'), PosixPath('../data/shred/EJ3TVioU8AAqEvN_100_2.pkl'), PosixPath('../data/shred/EJ3TVioU8AAqEvN_100_4.pkl'), PosixPath('../data/shred/EJ3TVioU8AAqEvN_10_1.pkl'), PosixPath('../data/shred/EJ3TVioU8AAqEvN_10_2.pkl'), PosixPath('../data/shred/EJ3TVioU8AAqEvN_10_4.pkl'), PosixPath('../data/shred/EJ3TVioU8AAqEvN_30_1.pkl'), PosixPath('../data/shred/EJ3TVioU8AAqEvN_30_2.pkl'), PosixPath('../data/shred/EJ3TVioU8AAqEvN_30_4.pkl'), PosixPath('../data/shred/EJ3TVioU8AAqEvN_50_1.pkl'), PosixPath('../data/shred/EJ3TVioU8AAqEvN_50_2.pkl'), PosixPath('../data/shred/EJ3TVioU8AAqEvN_50_4.pkl'), PosixPath('../data/shred/EJ3TVioU8AAqEvN_5_1.pkl'), PosixPath('../data/shred/EJ3TVioU8AAqEvN_5_2.pkl'), PosixPath('../data/shred/EJ3TVioU8AAqEvN_5_4.pkl'), PosixPath('../data/shred/chabudai_kaeshi_100_1.pkl'), PosixPath('../data/shred/chabudai_kaeshi_100_2.pkl'), PosixPath('../data/shred/chabudai_kaeshi_100_4.pkl'), PosixPath('../data/shred/chabudai_kaeshi_10_1.pkl'), PosixPath('../data/shred/chabudai_kaeshi_10_2.pkl'), PosixPath('../data/shred/chabudai_kaeshi_10_4.pkl'), PosixPath('../data/shred/chabudai_kaeshi_30_1.pkl'), PosixPath('../data/shred/chabudai_kaeshi_30_2.pkl'), PosixPath('../data/shred/chabudai_kaeshi_30_4.pkl'), PosixPath('../data/shred/chabudai_kaeshi_50_1.pkl'), PosixPath('../data/shred/chabudai_kaeshi_50_2.pkl'), PosixPath('../data/shred/chabudai_kaeshi_50_4.pkl'), PosixPath('../data/shred/chabudai_kaeshi_5_1.pkl'), PosixPath('../data/shred/chabudai_kaeshi_5_2.pkl'), PosixPath('../data/shred/chabudai_kaeshi_5_4.pkl'), PosixPath('../data/shred/depositphotos_11056146-stock-photo-two-peeking-from-hole-in_100_1.pkl'), PosixPath('../data/shred/depositphotos_11056146-stock-photo-two-peeking-from-hole-in_100_2.pkl'), PosixPath('../data/shred/depositphotos_11056146-stock-photo-two-peeking-from-hole-in_100_4.pkl'), PosixPath('../data/shred/depositphotos_11056146-stock-photo-two-peeking-from-hole-in_10_1.pkl'), PosixPath('../data/shred/depositphotos_11056146-stock-photo-two-peeking-from-hole-in_10_2.pkl'), PosixPath('../data/shred/depositphotos_11056146-stock-photo-two-peeking-from-hole-in_10_4.pkl'), PosixPath('../data/shred/depositphotos_11056146-stock-photo-two-peeking-from-hole-in_30_1.pkl'), PosixPath('../data/shred/depositphotos_11056146-stock-photo-two-peeking-from-hole-in_50_4.pkl'), PosixPath('../data/shred/depositphotos_11056146-stock-photo-two-peeking-from-hole-in_30_2.pkl'), PosixPath('../data/shred/depositphotos_11056146-stock-photo-two-peeking-from-hole-in_5_1.pkl'), PosixPath('../data/shred/depositphotos_11056146-stock-photo-two-peeking-from-hole-in_50_2.pkl'), PosixPath('../data/shred/depositphotos_11056146-stock-photo-two-peeking-from-hole-in_5_4.pkl'), PosixPath('../data/shred/depositphotos_11056146-stock-photo-two-peeking-from-hole-in_30_4.pkl'), PosixPath('../data/shred/depositphotos_11056146-stock-photo-two-peeking-from-hole-in_5_2.pkl'), PosixPath('../data/shred/depositphotos_11056146-stock-photo-two-peeking-from-hole-in_50_1.pkl'))\n",
      "(PosixPath('../data/shred/EJ3TVioU8AAqEvN_100_1.pkl'), PosixPath('../data/shred/EJ3TVioU8AAqEvN_100_2.pkl'), PosixPath('../data/shred/EJ3TVioU8AAqEvN_100_4.pkl'), PosixPath('../data/shred/EJ3TVioU8AAqEvN_10_1.pkl'), PosixPath('../data/shred/EJ3TVioU8AAqEvN_10_2.pkl'), PosixPath('../data/shred/EJ3TVioU8AAqEvN_10_4.pkl'), PosixPath('../data/shred/EJ3TVioU8AAqEvN_30_1.pkl'), PosixPath('../data/shred/EJ3TVioU8AAqEvN_30_2.pkl'), PosixPath('../data/shred/EJ3TVioU8AAqEvN_30_4.pkl'), PosixPath('../data/shred/EJ3TVioU8AAqEvN_50_1.pkl'), PosixPath('../data/shred/EJ3TVioU8AAqEvN_50_2.pkl'), PosixPath('../data/shred/EJ3TVioU8AAqEvN_50_4.pkl'), PosixPath('../data/shred/EJ3TVioU8AAqEvN_5_1.pkl'), PosixPath('../data/shred/EJ3TVioU8AAqEvN_5_2.pkl'), PosixPath('../data/shred/EJ3TVioU8AAqEvN_5_4.pkl'), PosixPath('../data/shred/chabudai_kaeshi_100_1.pkl'), PosixPath('../data/shred/chabudai_kaeshi_100_2.pkl'), PosixPath('../data/shred/chabudai_kaeshi_100_4.pkl'), PosixPath('../data/shred/chabudai_kaeshi_10_1.pkl'), PosixPath('../data/shred/chabudai_kaeshi_10_2.pkl'), PosixPath('../data/shred/chabudai_kaeshi_10_4.pkl'), PosixPath('../data/shred/chabudai_kaeshi_30_1.pkl'), PosixPath('../data/shred/chabudai_kaeshi_30_2.pkl'), PosixPath('../data/shred/chabudai_kaeshi_30_4.pkl'), PosixPath('../data/shred/chabudai_kaeshi_50_1.pkl'), PosixPath('../data/shred/chabudai_kaeshi_50_2.pkl'), PosixPath('../data/shred/chabudai_kaeshi_50_4.pkl'), PosixPath('../data/shred/chabudai_kaeshi_5_1.pkl'), PosixPath('../data/shred/chabudai_kaeshi_5_2.pkl'), PosixPath('../data/shred/chabudai_kaeshi_5_4.pkl'), PosixPath('../data/shred/depositphotos_11056146-stock-photo-two-peeking-from-hole-in_100_1.pkl'), PosixPath('../data/shred/depositphotos_11056146-stock-photo-two-peeking-from-hole-in_100_2.pkl'), PosixPath('../data/shred/depositphotos_11056146-stock-photo-two-peeking-from-hole-in_100_4.pkl'), PosixPath('../data/shred/depositphotos_11056146-stock-photo-two-peeking-from-hole-in_10_1.pkl'), PosixPath('../data/shred/depositphotos_11056146-stock-photo-two-peeking-from-hole-in_10_2.pkl'), PosixPath('../data/shred/depositphotos_11056146-stock-photo-two-peeking-from-hole-in_10_4.pkl'), PosixPath('../data/shred/depositphotos_11056146-stock-photo-two-peeking-from-hole-in_30_1.pkl'), PosixPath('../data/shred/depositphotos_11056146-stock-photo-two-peeking-from-hole-in_50_4.pkl'), PosixPath('../data/shred/depositphotos_11056146-stock-photo-two-peeking-from-hole-in_30_2.pkl'), PosixPath('../data/shred/depositphotos_11056146-stock-photo-two-peeking-from-hole-in_5_1.pkl'), PosixPath('../data/shred/depositphotos_11056146-stock-photo-two-peeking-from-hole-in_50_2.pkl'), PosixPath('../data/shred/depositphotos_11056146-stock-photo-two-peeking-from-hole-in_5_4.pkl'), PosixPath('../data/shred/depositphotos_11056146-stock-photo-two-peeking-from-hole-in_50_1.pkl'), PosixPath('../data/shred/depositphotos_11056146-stock-photo-two-peeking-from-hole-in_30_4.pkl'), PosixPath('../data/shred/depositphotos_11056146-stock-photo-two-peeking-from-hole-in_5_2.pkl'))\n",
      "(PosixPath('../data/shred/EJ3TVioU8AAqEvN_100_1.pkl'), PosixPath('../data/shred/EJ3TVioU8AAqEvN_100_2.pkl'), PosixPath('../data/shred/EJ3TVioU8AAqEvN_100_4.pkl'), PosixPath('../data/shred/EJ3TVioU8AAqEvN_10_1.pkl'), PosixPath('../data/shred/EJ3TVioU8AAqEvN_10_2.pkl'), PosixPath('../data/shred/EJ3TVioU8AAqEvN_10_4.pkl'), PosixPath('../data/shred/EJ3TVioU8AAqEvN_30_1.pkl'), PosixPath('../data/shred/EJ3TVioU8AAqEvN_30_2.pkl'), PosixPath('../data/shred/EJ3TVioU8AAqEvN_30_4.pkl'), PosixPath('../data/shred/EJ3TVioU8AAqEvN_50_1.pkl'), PosixPath('../data/shred/EJ3TVioU8AAqEvN_50_2.pkl'), PosixPath('../data/shred/EJ3TVioU8AAqEvN_50_4.pkl'), PosixPath('../data/shred/EJ3TVioU8AAqEvN_5_1.pkl'), PosixPath('../data/shred/EJ3TVioU8AAqEvN_5_2.pkl'), PosixPath('../data/shred/EJ3TVioU8AAqEvN_5_4.pkl'), PosixPath('../data/shred/chabudai_kaeshi_100_1.pkl'), PosixPath('../data/shred/chabudai_kaeshi_100_2.pkl'), PosixPath('../data/shred/chabudai_kaeshi_100_4.pkl'), PosixPath('../data/shred/chabudai_kaeshi_10_1.pkl'), PosixPath('../data/shred/chabudai_kaeshi_10_2.pkl'), PosixPath('../data/shred/chabudai_kaeshi_10_4.pkl'), PosixPath('../data/shred/chabudai_kaeshi_30_1.pkl'), PosixPath('../data/shred/chabudai_kaeshi_30_2.pkl'), PosixPath('../data/shred/chabudai_kaeshi_30_4.pkl'), PosixPath('../data/shred/chabudai_kaeshi_50_1.pkl'), PosixPath('../data/shred/chabudai_kaeshi_50_2.pkl'), PosixPath('../data/shred/chabudai_kaeshi_50_4.pkl'), PosixPath('../data/shred/chabudai_kaeshi_5_1.pkl'), PosixPath('../data/shred/chabudai_kaeshi_5_2.pkl'), PosixPath('../data/shred/chabudai_kaeshi_5_4.pkl'), PosixPath('../data/shred/depositphotos_11056146-stock-photo-two-peeking-from-hole-in_100_1.pkl'), PosixPath('../data/shred/depositphotos_11056146-stock-photo-two-peeking-from-hole-in_100_2.pkl'), PosixPath('../data/shred/depositphotos_11056146-stock-photo-two-peeking-from-hole-in_100_4.pkl'), PosixPath('../data/shred/depositphotos_11056146-stock-photo-two-peeking-from-hole-in_10_1.pkl'), PosixPath('../data/shred/depositphotos_11056146-stock-photo-two-peeking-from-hole-in_10_2.pkl'), PosixPath('../data/shred/depositphotos_11056146-stock-photo-two-peeking-from-hole-in_10_4.pkl'), PosixPath('../data/shred/depositphotos_11056146-stock-photo-two-peeking-from-hole-in_30_1.pkl'), PosixPath('../data/shred/depositphotos_11056146-stock-photo-two-peeking-from-hole-in_50_4.pkl'), PosixPath('../data/shred/depositphotos_11056146-stock-photo-two-peeking-from-hole-in_30_2.pkl'), PosixPath('../data/shred/depositphotos_11056146-stock-photo-two-peeking-from-hole-in_5_1.pkl'), PosixPath('../data/shred/depositphotos_11056146-stock-photo-two-peeking-from-hole-in_50_2.pkl'), PosixPath('../data/shred/depositphotos_11056146-stock-photo-two-peeking-from-hole-in_5_4.pkl'), PosixPath('../data/shred/depositphotos_11056146-stock-photo-two-peeking-from-hole-in_50_1.pkl'), PosixPath('../data/shred/depositphotos_11056146-stock-photo-two-peeking-from-hole-in_5_2.pkl'), PosixPath('../data/shred/depositphotos_11056146-stock-photo-two-peeking-from-hole-in_30_4.pkl'))\n"
     ]
    },
    {
     "output_type": "error",
     "ename": "KeyboardInterrupt",
     "evalue": "",
     "traceback": [
      "\u001b[0;31m---------------------------------------------------------------------------\u001b[0m",
      "\u001b[0;31mKeyboardInterrupt\u001b[0m                         Traceback (most recent call last)",
      "\u001b[0;32m<ipython-input-119-3550a82725e8>\u001b[0m in \u001b[0;36m<module>\u001b[0;34m\u001b[0m\n\u001b[1;32m      2\u001b[0m \u001b[0;34m\u001b[0m\u001b[0m\n\u001b[1;32m      3\u001b[0m \u001b[0;32mfor\u001b[0m \u001b[0mi\u001b[0m \u001b[0;32min\u001b[0m \u001b[0mitertools\u001b[0m\u001b[0;34m.\u001b[0m\u001b[0mpermutations\u001b[0m\u001b[0;34m(\u001b[0m\u001b[0mimgs\u001b[0m\u001b[0;34m)\u001b[0m\u001b[0;34m:\u001b[0m\u001b[0;34m\u001b[0m\u001b[0;34m\u001b[0m\u001b[0m\n\u001b[0;32m----> 4\u001b[0;31m     \u001b[0mprint\u001b[0m\u001b[0;34m(\u001b[0m\u001b[0mi\u001b[0m\u001b[0;34m)\u001b[0m\u001b[0;34m\u001b[0m\u001b[0;34m\u001b[0m\u001b[0m\n\u001b[0m",
      "\u001b[0;32m/usr/local/Cellar/python@3.9/3.9.0_1/Frameworks/Python.framework/Versions/3.9/lib/python3.9/pathlib.py\u001b[0m in \u001b[0;36m__repr__\u001b[0;34m(self)\u001b[0m\n\u001b[1;32m    754\u001b[0m \u001b[0;34m\u001b[0m\u001b[0m\n\u001b[1;32m    755\u001b[0m     \u001b[0;32mdef\u001b[0m \u001b[0m__repr__\u001b[0m\u001b[0;34m(\u001b[0m\u001b[0mself\u001b[0m\u001b[0;34m)\u001b[0m\u001b[0;34m:\u001b[0m\u001b[0;34m\u001b[0m\u001b[0;34m\u001b[0m\u001b[0m\n\u001b[0;32m--> 756\u001b[0;31m         \u001b[0;32mreturn\u001b[0m \u001b[0;34m\"{}({!r})\"\u001b[0m\u001b[0;34m.\u001b[0m\u001b[0mformat\u001b[0m\u001b[0;34m(\u001b[0m\u001b[0mself\u001b[0m\u001b[0;34m.\u001b[0m\u001b[0m__class__\u001b[0m\u001b[0;34m.\u001b[0m\u001b[0m__name__\u001b[0m\u001b[0;34m,\u001b[0m \u001b[0mself\u001b[0m\u001b[0;34m.\u001b[0m\u001b[0mas_posix\u001b[0m\u001b[0;34m(\u001b[0m\u001b[0;34m)\u001b[0m\u001b[0;34m)\u001b[0m\u001b[0;34m\u001b[0m\u001b[0;34m\u001b[0m\u001b[0m\n\u001b[0m\u001b[1;32m    757\u001b[0m \u001b[0;34m\u001b[0m\u001b[0m\n\u001b[1;32m    758\u001b[0m     \u001b[0;32mdef\u001b[0m \u001b[0mas_uri\u001b[0m\u001b[0;34m(\u001b[0m\u001b[0mself\u001b[0m\u001b[0;34m)\u001b[0m\u001b[0;34m:\u001b[0m\u001b[0;34m\u001b[0m\u001b[0;34m\u001b[0m\u001b[0m\n",
      "\u001b[0;32m/usr/local/Cellar/python@3.9/3.9.0_1/Frameworks/Python.framework/Versions/3.9/lib/python3.9/pathlib.py\u001b[0m in \u001b[0;36mas_posix\u001b[0;34m(self)\u001b[0m\n\u001b[1;32m    745\u001b[0m         \"\"\"Return the string representation of the path with forward (/)\n\u001b[1;32m    746\u001b[0m         slashes.\"\"\"\n\u001b[0;32m--> 747\u001b[0;31m         \u001b[0mf\u001b[0m \u001b[0;34m=\u001b[0m \u001b[0mself\u001b[0m\u001b[0;34m.\u001b[0m\u001b[0m_flavour\u001b[0m\u001b[0;34m\u001b[0m\u001b[0;34m\u001b[0m\u001b[0m\n\u001b[0m\u001b[1;32m    748\u001b[0m         \u001b[0;32mreturn\u001b[0m \u001b[0mstr\u001b[0m\u001b[0;34m(\u001b[0m\u001b[0mself\u001b[0m\u001b[0;34m)\u001b[0m\u001b[0;34m.\u001b[0m\u001b[0mreplace\u001b[0m\u001b[0;34m(\u001b[0m\u001b[0mf\u001b[0m\u001b[0;34m.\u001b[0m\u001b[0msep\u001b[0m\u001b[0;34m,\u001b[0m \u001b[0;34m'/'\u001b[0m\u001b[0;34m)\u001b[0m\u001b[0;34m\u001b[0m\u001b[0;34m\u001b[0m\u001b[0m\n\u001b[1;32m    749\u001b[0m \u001b[0;34m\u001b[0m\u001b[0m\n",
      "\u001b[0;31mKeyboardInterrupt\u001b[0m: "
     ]
    }
   ],
   "source": [
    "total_cost()"
   ]
  },
  {
   "cell_type": "code",
   "execution_count": null,
   "metadata": {},
   "outputs": [],
   "source": []
  }
 ]
}