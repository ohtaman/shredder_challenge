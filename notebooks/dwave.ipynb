{
 "cells": [
  {
   "cell_type": "code",
   "execution_count": 2,
   "metadata": {
    "scrolled": true
   },
   "outputs": [
    {
     "name": "stdout",
     "output_type": "stream",
     "text": [
      "Collecting package metadata (current_repodata.json): done\n",
      "Solving environment: done\n",
      "\n",
      "\n",
      "==> WARNING: A newer version of conda exists. <==\n",
      "  current version: 4.8.3\n",
      "  latest version: 4.9.2\n",
      "\n",
      "Please update conda by running\n",
      "\n",
      "    $ conda update -n base conda\n",
      "\n",
      "\n",
      "\n",
      "## Package Plan ##\n",
      "\n",
      "  environment location: /home/ec2-user/anaconda3/envs/Braket\n",
      "\n",
      "  added / updated specs:\n",
      "    - attrdict\n",
      "\n",
      "\n",
      "The following packages will be downloaded:\n",
      "\n",
      "    package                    |            build\n",
      "    ---------------------------|-----------------\n",
      "    attrdict-2.0.1             |             py_0          10 KB  conda-forge\n",
      "    ca-certificates-2020.11.8  |       ha878542_0         145 KB  conda-forge\n",
      "    certifi-2020.11.8          |   py37h89c1867_0         150 KB  conda-forge\n",
      "    ------------------------------------------------------------\n",
      "                                           Total:         305 KB\n",
      "\n",
      "The following NEW packages will be INSTALLED:\n",
      "\n",
      "  attrdict           conda-forge/noarch::attrdict-2.0.1-py_0\n",
      "\n",
      "The following packages will be UPDATED:\n",
      "\n",
      "  ca-certificates    pkgs/main::ca-certificates-2020.10.14~ --> conda-forge::ca-certificates-2020.11.8-ha878542_0\n",
      "  certifi               pkgs/main::certifi-2020.6.20-py37_0 --> conda-forge::certifi-2020.11.8-py37h89c1867_0\n",
      "\n",
      "The following packages will be SUPERSEDED by a higher-priority channel:\n",
      "\n",
      "  openssl              pkgs/main::openssl-1.1.1h-h7b6447c_0 --> conda-forge::openssl-1.1.1h-h516909a_0\n",
      "\n",
      "\n",
      "\n",
      "Downloading and Extracting Packages\n",
      "certifi-2020.11.8    | 150 KB    | ##################################### | 100% \n",
      "ca-certificates-2020 | 145 KB    | ##################################### | 100% \n",
      "attrdict-2.0.1       | 10 KB     | ##################################### | 100% \n",
      "Preparing transaction: done\n",
      "Verifying transaction: done\n",
      "Executing transaction: done\n"
     ]
    }
   ],
   "source": [
    "!conda install -y attrdict"
   ]
  },
  {
   "cell_type": "markdown",
   "metadata": {},
   "source": [
    "## 定式化\n",
    "\n",
    "### インデックス\n",
    "\n",
    "- $i, j \\in \\mathcal{N}$: 位置を表すインデックス\n",
    "- $a \\in \\mathcal{N}$: 紙片を表すインデックス\n",
    "\n",
    "### 定数\n",
    "\n",
    "- $C_{a, b, i,j}$ 位置 $i$ と $j$ が方向 $d$ で隣り合っている時 $1$、それ以外 $0$ となる定数\n",
    "    - $a$ が $i$、 $b$ が $j$ に置くのにかかるコスト\n",
    "    \n",
    "### 変数\n",
    "\n",
    "- $x_{a,i}$: 紙片 $a$ が位置 $i$ に置かれる時 1、置かれない時 0\n",
    "\n",
    "### 目的関数\n",
    "\n",
    "- $\\min_x\\ \\sum_{a,b,i,j}C_{a, b, i,j}x_{a,i}x_{b,j}$\n",
    "\n",
    "### 制約\n",
    "\n",
    "- $\\sum_{i}x_{a,i} = 1$: 紙片 $a$ は必ずどこか一箇所に置かれる\n",
    "- $\\sum_{a}x_{a,i} = 1$: 位置 $i$ に置かれる紙片は1枚"
   ]
  },
  {
   "cell_type": "markdown",
   "metadata": {},
   "source": [
    "## 制約の除去\n",
    "\n",
    "目的関数を\n",
    "\n",
    "$\\min_x\\ \\sum_{a,b,i,j}C_{a, b, i,j}x_{a,i}x_{b,j} + M\\sum_{a}(\\sum_{i}x_{a,i} - 1)^2 + M\\sum_{i}(\\sum_{a}x_{a,i} - 1)^2$\n",
    "\n",
    "とすればよい。 $M$ は\n",
    "\n",
    "$M \\geq \\max D_{d,a,b}$\n",
    "\n",
    "を満たす適当に大きな定数。\n",
    "\n",
    "<!--\n",
    "もしくは、位置$i$ を行と列 $(r, c)$ と書いて、新たな補助変数 $z_{a,r}$ を導入して、\n",
    "\n",
    "\n",
    "$\\min_x\\ \\sum_{a,b,i,j}D_{d,a,b}C_{d, i,j}x_{a,i}x_{b,j} + M_1\\sum_{a,r}(\\sum_{c}x_{a,r,c} - z_{a,r})^2 + M_2\\sum_{a}(\\sum_{r}z_{a, r} - 1)^2$\n",
    "\n",
    "とする\n",
    "-->"
   ]
  },
  {
   "cell_type": "code",
   "execution_count": 12,
   "metadata": {},
   "outputs": [],
   "source": [
    "import attrdict\n",
    "\n",
    "import numpy as np\n",
    "from functools import lru_cache\n",
    "from collections import defaultdict\n",
    "import pathlib\n",
    "import pickle\n",
    "\n",
    "\n",
    "def sim(a, b, d):\n",
    "    if d == 'r':\n",
    "        return (a[-1, :, :][:b.shape[0]] == b[0, :, :][:a.shape[0]]).sum()\n",
    "    elif d == 'c':\n",
    "        return (a[:, -1, :][:, :b.shape[1]] == b[:, 0, :][:, :a.shape[1]]).sum()\n",
    "    else:\n",
    "        raise\n",
    "\n",
    "\n",
    "def idx2node(a, i, size):\n",
    "    return size*i + a\n",
    "\n",
    "\n",
    "def node2idx(n, size):\n",
    "    i = n//size\n",
    "    a = n%size\n",
    "    return a, i\n",
    "\n",
    "\n",
    "def get_coeff(imgs, rows, cols):\n",
    "    \"\"\"\n",
    "    \\sum_{d}S_{abd}D_{ijd} を返す\n",
    "    \"\"\"\n",
    "    size = rows*cols\n",
    "    coeff = defaultdict(float)\n",
    "    for a in range(len(imgs)):\n",
    "        for b in range(len(imgs)):\n",
    "            for i in range(rows*cols):\n",
    "                if (i + 1)%cols > 0:\n",
    "                    n = idx2node(a, i, size)\n",
    "                    m = idx2node(b, i + 1, size)\n",
    "                    coeff[n, m] = sim(imgs[a], imgs[b], 'c')\n",
    "                if i + cols < n:\n",
    "                    n = idx2node(a, i, size)\n",
    "                    m = idx2node(b, i + cols, size)\n",
    "                    coeff[n, m] = sim(imgs[a], imgs[b], 'r')\n",
    "    return coeff"
   ]
  },
  {
   "cell_type": "code",
   "execution_count": 8,
   "metadata": {},
   "outputs": [],
   "source": [
    "IMG_DIR = '../data/shred'\n",
    "\n",
    "imgs = sorted(pathlib.Path(IMG_DIR).glob('*.pkl'))"
   ]
  },
  {
   "cell_type": "code",
   "execution_count": 9,
   "metadata": {},
   "outputs": [
    {
     "name": "stdout",
     "output_type": "stream",
     "text": [
      "2 10\n"
     ]
    }
   ],
   "source": [
    "with open(imgs[5], 'rb') as i_:\n",
    "    data = pickle.load(i_)\n",
    "\n",
    "print(data.rows, data.cols)"
   ]
  },
  {
   "cell_type": "code",
   "execution_count": 10,
   "metadata": {},
   "outputs": [],
   "source": [
    "coeff = get_coeff(data.images, data.rows, data.cols)"
   ]
  },
  {
   "cell_type": "code",
   "execution_count": null,
   "metadata": {},
   "outputs": [],
   "source": []
  },
  {
   "cell_type": "markdown",
   "metadata": {},
   "source": [
    "## D-Wave に投入\n",
    "\n",
    "https://qard.is.tohoku.ac.jp/T-Wave/?p=1136#PyQUBO%E3%82%92%E7%94%A8%E3%81%84%E3%81%9F%E5%A0%B4%E5%90%88"
   ]
  },
  {
   "cell_type": "code",
   "execution_count": 13,
   "metadata": {
    "scrolled": false
   },
   "outputs": [],
   "source": [
    "import boto3\n",
    "from braket.aws import AwsDevice\n",
    "from braket.ocean_plugin import BraketSampler, BraketDWaveSampler\n",
    "from dwave.system.composites import EmbeddingComposite\n",
    "\n",
    "# get the account ID\n",
    "aws_account_id = boto3.client(\"sts\").get_caller_identity()[\"Account\"]\n",
    "# the name of the bucket\n",
    "my_bucket = \"amazon-braket-ohtaman\"\n",
    "# the name of the folder in the bucket\n",
    "my_prefix = \"d-wave/output\"\n",
    "s3_location = (my_bucket, my_prefix)"
   ]
  },
  {
   "cell_type": "code",
   "execution_count": 17,
   "metadata": {},
   "outputs": [
    {
     "name": "stdout",
     "output_type": "stream",
     "text": [
      "Device: Device('name': Advantage_system1.1, 'arn': arn:aws:braket:::device/qpu/d-wave/Advantage_system1)\n"
     ]
    }
   ],
   "source": [
    "#device = AwsDevice(\"arn:aws:braket:::device/qpu/d-wave/DW_2000Q_6\")\n",
    "device = AwsDevice(\"arn:aws:braket:::device/qpu/d-wave/Advantage_system1\")\n",
    "print('Device:', device)"
   ]
  },
  {
   "cell_type": "code",
   "execution_count": 18,
   "metadata": {},
   "outputs": [],
   "source": [
    "sampler = BraketDWaveSampler(s3_location, device.arn)\n",
    "sampler = EmbeddingComposite(sampler)"
   ]
  },
  {
   "cell_type": "code",
   "execution_count": 19,
   "metadata": {},
   "outputs": [
    {
     "ename": "ValueError",
     "evalue": "no embedding found",
     "output_type": "error",
     "traceback": [
      "\u001b[0;31m---------------------------------------------------------------------------\u001b[0m",
      "\u001b[0;31mValueError\u001b[0m                                Traceback (most recent call last)",
      "\u001b[0;32m<ipython-input-19-6b4b439b0bec>\u001b[0m in \u001b[0;36m<module>\u001b[0;34m\u001b[0m\n\u001b[0;32m----> 1\u001b[0;31m \u001b[0msampler\u001b[0m\u001b[0;34m.\u001b[0m\u001b[0msample_qubo\u001b[0m\u001b[0;34m(\u001b[0m\u001b[0mcoeff\u001b[0m\u001b[0;34m)\u001b[0m\u001b[0;34m\u001b[0m\u001b[0;34m\u001b[0m\u001b[0m\n\u001b[0m",
      "\u001b[0;32m~/anaconda3/envs/Braket/lib/python3.7/site-packages/dimod/core/sampler.py\u001b[0m in \u001b[0;36msample_qubo\u001b[0;34m(self, Q, **parameters)\u001b[0m\n\u001b[1;32m    238\u001b[0m         \"\"\"\n\u001b[1;32m    239\u001b[0m         \u001b[0mbqm\u001b[0m \u001b[0;34m=\u001b[0m \u001b[0mBinaryQuadraticModel\u001b[0m\u001b[0;34m.\u001b[0m\u001b[0mfrom_qubo\u001b[0m\u001b[0;34m(\u001b[0m\u001b[0mQ\u001b[0m\u001b[0;34m)\u001b[0m\u001b[0;34m\u001b[0m\u001b[0;34m\u001b[0m\u001b[0m\n\u001b[0;32m--> 240\u001b[0;31m         \u001b[0;32mreturn\u001b[0m \u001b[0mself\u001b[0m\u001b[0;34m.\u001b[0m\u001b[0msample\u001b[0m\u001b[0;34m(\u001b[0m\u001b[0mbqm\u001b[0m\u001b[0;34m,\u001b[0m \u001b[0;34m**\u001b[0m\u001b[0mparameters\u001b[0m\u001b[0;34m)\u001b[0m\u001b[0;34m\u001b[0m\u001b[0;34m\u001b[0m\u001b[0m\n\u001b[0m",
      "\u001b[0;32m~/anaconda3/envs/Braket/lib/python3.7/site-packages/dwave/system/composites/embedding.py\u001b[0m in \u001b[0;36msample\u001b[0;34m(self, bqm, chain_strength, chain_break_method, chain_break_fraction, embedding_parameters, return_embedding, warnings, **parameters)\u001b[0m\n\u001b[1;32m    244\u001b[0m \u001b[0;34m\u001b[0m\u001b[0m\n\u001b[1;32m    245\u001b[0m         \u001b[0;32mif\u001b[0m \u001b[0mbqm\u001b[0m \u001b[0;32mand\u001b[0m \u001b[0;32mnot\u001b[0m \u001b[0membedding\u001b[0m\u001b[0;34m:\u001b[0m\u001b[0;34m\u001b[0m\u001b[0;34m\u001b[0m\u001b[0m\n\u001b[0;32m--> 246\u001b[0;31m             \u001b[0;32mraise\u001b[0m \u001b[0mValueError\u001b[0m\u001b[0;34m(\u001b[0m\u001b[0;34m\"no embedding found\"\u001b[0m\u001b[0;34m)\u001b[0m\u001b[0;34m\u001b[0m\u001b[0;34m\u001b[0m\u001b[0m\n\u001b[0m\u001b[1;32m    247\u001b[0m \u001b[0;34m\u001b[0m\u001b[0m\n\u001b[1;32m    248\u001b[0m         bqm_embedded = embed_bqm(bqm, embedding, target_adjacency,\n",
      "\u001b[0;31mValueError\u001b[0m: no embedding found"
     ]
    }
   ],
   "source": [
    "sampler.sample_qubo(coeff)"
   ]
  },
  {
   "cell_type": "code",
   "execution_count": null,
   "metadata": {},
   "outputs": [],
   "source": []
  }
 ],
 "metadata": {
  "kernelspec": {
   "display_name": "conda_braket",
   "language": "python",
   "name": "conda_braket"
  },
  "language_info": {
   "codemirror_mode": {
    "name": "ipython",
    "version": 3
   },
   "file_extension": ".py",
   "mimetype": "text/x-python",
   "name": "python",
   "nbconvert_exporter": "python",
   "pygments_lexer": "ipython3",
   "version": "3.7.9"
  }
 },
 "nbformat": 4,
 "nbformat_minor": 4
}
