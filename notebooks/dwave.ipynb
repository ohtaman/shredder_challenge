{
 "cells": [
  {
   "cell_type": "code",
   "execution_count": 1,
   "metadata": {},
   "outputs": [],
   "source": [
    "import numpy as np\n",
    "from functools import lru_cache\n",
    "from collections import defaultdict\n",
    "import pathlib\n",
    "import pickle\n",
    "\n",
    "\n",
    "def get_sim_func(imgs):\n",
    "    @lru_cache(maxsize=None)\n",
    "    def sim(a, b, d):\n",
    "        height = min(imgs[a].shape[0], imgs[b].shape[0])\n",
    "        width = min(imgs[a].shape[1], imgs[b].shape[1])\n",
    "        if d == 'r':\n",
    "            return imgs[a][-1, :, :][:height]\n",
    "            rhs = imgs[b][0, :, :][:height]\n",
    "        elif d == 'c':\n",
    "            lhs = imgs[a][:, -1, :][:, :width]\n",
    "            rhs = imgs[b][:, 0, :][:, :width]\n",
    "        else:\n",
    "            raise\n",
    "        return (lhs == rhs).sum()\n",
    "    return sim\n",
    "        \n",
    "\n",
    "def sim(a, b, d):\n",
    "    if d == 'r':\n",
    "        lhs = a[-1, :, :][:b.shape[0]]\n",
    "        rhs = b[0, :, :][:a.shape[0]]\n",
    "    elif d == 'c':\n",
    "        lhs = a[:, -1, :][:, :b.shape[1]]\n",
    "        rhs = b[:, 0, :][:, :a.shape[1]]\n",
    "    else:\n",
    "        raise\n",
    "    return (lhs == rhs).sum()\n",
    "\n",
    "\n",
    "def total_cost(imgs, rows, cols):\n",
    "    cost = 0\n",
    "    n = rows*cols\n",
    "    for i in range(len(imgs)):\n",
    "        if (1 + 1)%cols > 0:\n",
    "            cost += sim(imgs[i], imgs[i + 1], 'r')\n",
    "        if i + cols < n:\n",
    "            cost += sim(imgs[i], imgs[i + cols], 'c')\n",
    "    return cost\n",
    "\n",
    "\n",
    "def get_coeff(imgs, rows, cols):\n",
    "    \"\"\"\n",
    "    \\sum_{d}S_{abd}D_{ijd} を返す\n",
    "    \"\"\"\n",
    "    n = rows*cols\n",
    "    coeff = defaultdict(float)\n",
    "    for a in range(len(imgs)):\n",
    "        for b in range(len(imgs)):\n",
    "            for i in range(rows*cols):\n",
    "                if (i + 1)%cols > 0:\n",
    "                    coeff[a, b, i, i + 1] = sim(imgs[a], imgs[b], 'r')\n",
    "                if i + cols < n:\n",
    "                    coeff[a, b, i, i + cols] = sim(imgs[a], imgs[b], 'c')\n",
    "    return coeff"
   ]
  },
  {
   "cell_type": "code",
   "execution_count": 2,
   "metadata": {},
   "outputs": [],
   "source": [
    "IMG_DIR = '../data/shred'\n",
    "\n",
    "imgs = sorted(pathlib.Path(IMG_DIR).glob('*.pkl'))"
   ]
  },
  {
   "cell_type": "code",
   "execution_count": 3,
   "metadata": {},
   "outputs": [],
   "source": [
    "with open(imgs[12], 'rb') as i_:\n",
    "    i = pickle.load(i_)"
   ]
  },
  {
   "cell_type": "code",
   "execution_count": 6,
   "metadata": {},
   "outputs": [
    {
     "data": {
      "text/plain": [
       "5"
      ]
     },
     "execution_count": 6,
     "metadata": {},
     "output_type": "execute_result"
    }
   ],
   "source": []
  },
  {
   "cell_type": "code",
   "execution_count": null,
   "metadata": {},
   "outputs": [],
   "source": []
  }
 ],
 "metadata": {
  "kernelspec": {
   "display_name": "conda_braket",
   "language": "python",
   "name": "conda_braket"
  },
  "language_info": {
   "codemirror_mode": {
    "name": "ipython",
    "version": 3
   },
   "file_extension": ".py",
   "mimetype": "text/x-python",
   "name": "python",
   "nbconvert_exporter": "python",
   "pygments_lexer": "ipython3",
   "version": "3.7.9"
  }
 },
 "nbformat": 4,
 "nbformat_minor": 4
}
